{
 "cells": [
  {
   "cell_type": "code",
   "execution_count": null,
   "metadata": {},
   "outputs": [],
   "source": [
    "import requests"
   ]
  },
  {
   "cell_type": "code",
   "execution_count": null,
   "metadata": {},
   "outputs": [],
   "source": [
    "MODEL_ID = \"bge-en-large-caikit\"\n",
    "ISVC_URL = \"\"\n",
    "API_URL = f\"{ISVC_URL}/openapi.json\""
   ]
  },
  {
   "cell_type": "markdown",
   "metadata": {},
   "source": [
    "## Get list of APIs"
   ]
  },
  {
   "cell_type": "code",
   "execution_count": null,
   "metadata": {},
   "outputs": [],
   "source": [
    "body = requests.get(\n",
    "    API_URL,\n",
    "    verify=False\n",
    ")\n",
    "body.json()\n"
   ]
  },
  {
   "cell_type": "code",
   "execution_count": null,
   "metadata": {},
   "outputs": [],
   "source": [
    "TEXT=\"At what temperature does liquid Nitrogen boil?\"\n",
    "EMBEDDING_URL=f\"{ISVC_URL}/\""
   ]
  },
  {
   "cell_type": "markdown",
   "metadata": {},
   "source": [
    "## POST'ing for embeddings"
   ]
  },
  {
   "cell_type": "code",
   "execution_count": null,
   "metadata": {},
   "outputs": [],
   "source": [
    "body = requests.post(\n",
    "    EMBEDDING_URL,\n",
    "    json={\n",
    "        \"model_id\": MODEL_ID,\n",
    "        \"inputs\": TEXT\n",
    "        },  \n",
    "    verify=False\n",
    ")\n",
    "body.json()"
   ]
  }
 ],
 "metadata": {
  "language_info": {
   "name": "python"
  }
 },
 "nbformat": 4,
 "nbformat_minor": 2
}
